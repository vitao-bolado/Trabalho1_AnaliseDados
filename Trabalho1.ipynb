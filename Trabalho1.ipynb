{
  "nbformat": 4,
  "nbformat_minor": 0,
  "metadata": {
    "colab": {
      "provenance": [],
      "include_colab_link": true
    },
    "kernelspec": {
      "name": "python3",
      "display_name": "Python 3"
    },
    "language_info": {
      "name": "python"
    }
  },
  "cells": [
    {
      "cell_type": "markdown",
      "metadata": {
        "id": "view-in-github",
        "colab_type": "text"
      },
      "source": [
        "<a href=\"https://colab.research.google.com/github/Jv9545/Trabalho1_AnaliseDados/blob/main/Trabalho1.ipynb\" target=\"_parent\"><img src=\"https://colab.research.google.com/assets/colab-badge.svg\" alt=\"Open In Colab\"/></a>"
      ]
    },
    {
      "cell_type": "markdown",
      "source": [
        "**Trabalho 1 - Analise de rotatividade de Clientes Bancários**<br>\n",
        "**Desenvolvido por** José Vinicius e Vitor Faustino<Br>\n",
        "\n",
        "\n",
        "*   Identicar os fatores que influenciam a saída dos clientes;\n",
        "*   Comparar o perfil de clientes que saíram com os que permaneceram;\n",
        "*   Desenvolver modelos preditivos de churn;\n",
        "*   Trabalhar com variáveis categóricas e numéricas simultaneamente.\n"
      ],
      "metadata": {
        "id": "3Ht2iE_fBsNp"
      }
    },
    {
      "cell_type": "markdown",
      "source": [
        "**ETAPA 1** - Carregando bibliotecas e base de dados"
      ],
      "metadata": {
        "id": "LEm_6pYKKL5K"
      }
    },
    {
      "cell_type": "code",
      "source": [
        "import numpy as np\n",
        "import pandas as pd\n",
        "import matplotlib.pyplot as plt\n",
        "import seaborn as sns\n",
        "\n",
        "from google.colab import drive\n",
        "drive.mount('/content/drive')\n",
        "\n",
        "path = \"/content/drive/MyDrive\"\n",
        "\n",
        "df = pd.read_csv(path + '/06_rotatividade_clientes_bancários.csv', sep=',')\n",
        "\n"
      ],
      "metadata": {
        "id": "oAOWDPOeLhem",
        "outputId": "884767cc-a130-4177-8298-d7ebe5f90200",
        "colab": {
          "base_uri": "https://localhost:8080/"
        }
      },
      "execution_count": 2,
      "outputs": [
        {
          "output_type": "stream",
          "name": "stdout",
          "text": [
            "Drive already mounted at /content/drive; to attempt to forcibly remount, call drive.mount(\"/content/drive\", force_remount=True).\n"
          ]
        }
      ]
    },
    {
      "cell_type": "markdown",
      "source": [
        "ETAPA 2 - Descrição dos dados"
      ],
      "metadata": {
        "id": "rElOoCHlHG6c"
      }
    },
    {
      "cell_type": "code",
      "source": [],
      "metadata": {
        "id": "EUJa2AE_7-Bw",
        "outputId": "7f6270b2-3e69-4ced-c46b-b0c28238c347",
        "colab": {
          "base_uri": "https://localhost:8080/"
        }
      },
      "execution_count": 1,
      "outputs": [
        {
          "output_type": "stream",
          "name": "stdout",
          "text": [
            "Mounted at /content/drive\n"
          ]
        }
      ]
    }
  ]
}